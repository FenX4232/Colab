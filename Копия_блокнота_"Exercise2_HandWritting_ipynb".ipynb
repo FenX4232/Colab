{
  "nbformat": 4,
  "nbformat_minor": 0,
  "metadata": {
    "coursera": {
      "course_slug": "introduction-tensorflow",
      "graded_item_id": "d6dew",
      "launcher_item_id": "FExZ4"
    },
    "kernelspec": {
      "display_name": "Python 3",
      "language": "python",
      "name": "python3"
    },
    "language_info": {
      "codemirror_mode": {
        "name": "ipython",
        "version": 3
      },
      "file_extension": ".py",
      "mimetype": "text/x-python",
      "name": "python",
      "nbconvert_exporter": "python",
      "pygments_lexer": "ipython3",
      "version": "3.6.8"
    },
    "colab": {
      "name": "Копия блокнота \"Exercise2-HandWritting.ipynb\"",
      "provenance": [],
      "include_colab_link": true
    }
  },
  "cells": [
    {
      "cell_type": "markdown",
      "metadata": {
        "id": "view-in-github",
        "colab_type": "text"
      },
      "source": [
        "<a href=\"https://colab.research.google.com/github/FenX4232/Colab/blob/main/%D0%9A%D0%BE%D0%BF%D0%B8%D1%8F_%D0%B1%D0%BB%D0%BE%D0%BA%D0%BD%D0%BE%D1%82%D0%B0_%22Exercise2_HandWritting_ipynb%22.ipynb\" target=\"_parent\"><img src=\"https://colab.research.google.com/assets/colab-badge.svg\" alt=\"Open In Colab\"/></a>"
      ]
    },
    {
      "cell_type": "markdown",
      "metadata": {
        "id": "tOoyQ70H00_s"
      },
      "source": [
        "## Упражнение 2\n",
        "Напишите классификатор MNIST, который обучается до точности 99% или выше и делает это без фиксированного числа эпох - то есть вы должны прекратить обучение, как только достигнете этого уровня точности.\n",
        "\n",
        "1. Этого надо достигнуть менее чем за 10 эпох, поэтому можно установить epoches=10, но не более.\n",
        "2. Когда точность станет 99% или больше, надо распечатать строку «Достигнута точность 99%, поэтому обучение закончено!»\n"
      ]
    },
    {
      "cell_type": "code",
      "metadata": {
        "id": "OmPpq7lZHw-2"
      },
      "source": [
        "import tensorflow as tf\n",
        "from os import path, getcwd, chdir\n",
        "\n",
        "mnist = tf.keras.datasets.mnist"
      ],
      "execution_count": 1,
      "outputs": []
    },
    {
      "cell_type": "code",
      "metadata": {
        "id": "9rvXQGAA0ssC",
        "colab": {
          "base_uri": "https://localhost:8080/"
        },
        "outputId": "2a69f522-d1e2-4806-b0d0-d41b765249a1"
      },
      "source": [
        "# YOUR CODE SHOULD START HERE\n",
        "from keras.datasets import mnist\n",
        "# YOUR CODE SHOULD END HERE\n",
        "(x_train, y_train),(x_test, y_test) = mnist.load_data()\n",
        "# YOUR CODE SHOULD START HERE\n",
        "print('x_train: ' + str(x_train.shape))\n",
        "print('y_train: ' + str(y_train.shape))\n",
        "print('x_test:  '  + str(x_test.shape))\n",
        "print('y_test:  '  + str(y_test.shape))\n",
        "\n",
        "x_train = x_train.reshape(60000, 784).astype('float32') / 255\n",
        "x_test = x_test.reshape(10000, 784).astype('float32') / 255\n",
        "\n",
        "y_train = y_train.astype('float32')\n",
        "y_test = y_test.astype('float32')\n",
        "# YOUR CODE SHOULD END HERE\n",
        "model = tf.keras.models.Sequential([\n",
        "# YOUR CODE SHOULD START HERE\n",
        "  tf.keras.layers.Dense(156, activation=tf.nn.relu),\n",
        "  tf.keras.layers.Dense(10, activation=tf.nn.softmax) #10 нейронов - 10 цифр\n",
        "# YOUR CODE SHOULD END HERE\n",
        "])\n",
        "\n",
        "model.compile(optimizer='adam',\n",
        "              loss='sparse_categorical_crossentropy',\n",
        "              metrics=['accuracy'])\n",
        "\n",
        "# YOUR CODE SHOULD START HERE\n",
        "class MyThresholdCallback(tf.keras.callbacks.Callback): #Взял с https://question-it.com/questions/3062548/kak-ostanovit-obuchenie-kogda-ono-dostigaet-opredelennoj-tochnosti-proverki\n",
        "    def __init__(self, threshold):                      #Так как не знаю как ещё можно остановить обучение\n",
        "        super(MyThresholdCallback, self).__init__()\n",
        "        self.threshold = threshold\n",
        "\n",
        "    def on_epoch_end(self, epoch, logs=None): \n",
        "        val_acc = logs[\"accuracy\"]\n",
        "        if val_acc >= self.threshold:\n",
        "            self.model.stop_training = True\n",
        "            print('\\nДостигнута точность 99%, поэтому обучение закончено!')\n",
        "\n",
        "my_callback = MyThresholdCallback(threshold=0.99)\n",
        "\n",
        "history = model.fit(x_train, y_train, epochs=10, shuffle=True, verbose=1, callbacks=[my_callback])\n",
        "\n",
        "# YOUR CODE SHOULD END HERE\n",
        "\n",
        "print(history.epoch, history.history['accuracy'][-1])"
      ],
      "execution_count": 44,
      "outputs": [
        {
          "output_type": "stream",
          "name": "stdout",
          "text": [
            "x_train: (60000, 28, 28)\n",
            "y_train: (60000,)\n",
            "x_test:  (10000, 28, 28)\n",
            "y_test:  (10000,)\n",
            "Epoch 1/10\n",
            "1875/1875 [==============================] - 4s 2ms/step - loss: 0.2530 - accuracy: 0.9271\n",
            "Epoch 2/10\n",
            "1875/1875 [==============================] - 4s 2ms/step - loss: 0.1085 - accuracy: 0.9671\n",
            "Epoch 3/10\n",
            "1875/1875 [==============================] - 4s 2ms/step - loss: 0.0734 - accuracy: 0.9770\n",
            "Epoch 4/10\n",
            "1875/1875 [==============================] - 4s 2ms/step - loss: 0.0553 - accuracy: 0.9829\n",
            "Epoch 5/10\n",
            "1875/1875 [==============================] - 4s 2ms/step - loss: 0.0415 - accuracy: 0.9874\n",
            "Epoch 6/10\n",
            "1869/1875 [============================>.] - ETA: 0s - loss: 0.0319 - accuracy: 0.9904\n",
            "Достигнута точность 99%, поэтому обучение закончено!\n",
            "1875/1875 [==============================] - 4s 2ms/step - loss: 0.0319 - accuracy: 0.9904\n",
            "[0, 1, 2, 3, 4, 5] 0.9904166460037231\n"
          ]
        }
      ]
    }
  ]
}